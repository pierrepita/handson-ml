{
  "nbformat": 4,
  "nbformat_minor": 0,
  "metadata": {
    "colab": {
      "name": "credit_approval_datascience_digitalbusiness_clash_of_methods.ipynb",
      "provenance": [],
      "collapsed_sections": []
    },
    "kernelspec": {
      "name": "python3",
      "display_name": "Python 3"
    }
  },
  "cells": [
    {
      "cell_type": "code",
      "metadata": {
        "id": "4gTIR5CSA_rL",
        "colab_type": "code",
        "colab": {}
      },
      "source": [
        "from sklearn import tree\n",
        "from sklearn.naive_bayes import GaussianNB\n",
        "from sklearn.ensemble import GradientBoostingClassifier\n",
        "from sklearn.ensemble import RandomForestClassifier\n",
        "from sklearn.linear_model import LogisticRegression\n",
        "from xgboost import XGBClassifier\n",
        "import pandas as pd\n",
        "import numpy as np\n",
        "import graphviz\n",
        "from sklearn.model_selection import train_test_split\n",
        "from sklearn.metrics import accuracy_score\n",
        "from sklearn.metrics import classification_report, confusion_matrix"
      ],
      "execution_count": 0,
      "outputs": []
    },
    {
      "cell_type": "markdown",
      "metadata": {
        "id": "3J283-w2GP4-",
        "colab_type": "text"
      },
      "source": [
        "### **Obtendo a base de dados**"
      ]
    },
    {
      "cell_type": "code",
      "metadata": {
        "id": "Gw7KzCbfF_7Q",
        "colab_type": "code",
        "outputId": "ff3cfea1-451d-4dab-ce12-20472e169324",
        "colab": {
          "base_uri": "https://localhost:8080/",
          "height": 204
        }
      },
      "source": [
        "!wget https://raw.githubusercontent.com/pierrepita/handson-ml/master/credit_approval_preprocessed.csv -O credit_approval_preprocessed.csv"
      ],
      "execution_count": 18,
      "outputs": [
        {
          "output_type": "stream",
          "text": [
            "--2019-11-21 04:10:00--  https://raw.githubusercontent.com/pierrepita/handson-ml/master/credit_approval_preprocessed.csv\n",
            "Resolving raw.githubusercontent.com (raw.githubusercontent.com)... 151.101.0.133, 151.101.64.133, 151.101.128.133, ...\n",
            "Connecting to raw.githubusercontent.com (raw.githubusercontent.com)|151.101.0.133|:443... connected.\n",
            "HTTP request sent, awaiting response... 200 OK\n",
            "Length: 106050 (104K) [text/plain]\n",
            "Saving to: ‘credit_approval_preprocessed.csv’\n",
            "\n",
            "credit_approval_pre 100%[===================>] 103.56K  --.-KB/s    in 0.04s   \n",
            "\n",
            "2019-11-21 04:10:00 (2.72 MB/s) - ‘credit_approval_preprocessed.csv’ saved [106050/106050]\n",
            "\n"
          ],
          "name": "stdout"
        }
      ]
    },
    {
      "cell_type": "markdown",
      "metadata": {
        "id": "19SFzyCcJaRC",
        "colab_type": "text"
      },
      "source": [
        "### **Lendo a base de dados**"
      ]
    },
    {
      "cell_type": "code",
      "metadata": {
        "id": "sU_P8Y7-IFcQ",
        "colab_type": "code",
        "colab": {}
      },
      "source": [
        "df = pd.read_csv('credit_approval_preprocessed.csv')"
      ],
      "execution_count": 0,
      "outputs": []
    },
    {
      "cell_type": "code",
      "metadata": {
        "id": "fNgvzjpHIGTA",
        "colab_type": "code",
        "outputId": "d4c22ab6-4d16-482f-a44f-c9dca9d6e09c",
        "colab": {
          "base_uri": "https://localhost:8080/",
          "height": 224
        }
      },
      "source": [
        "df.head()"
      ],
      "execution_count": 20,
      "outputs": [
        {
          "output_type": "execute_result",
          "data": {
            "text/html": [
              "<div>\n",
              "<style scoped>\n",
              "    .dataframe tbody tr th:only-of-type {\n",
              "        vertical-align: middle;\n",
              "    }\n",
              "\n",
              "    .dataframe tbody tr th {\n",
              "        vertical-align: top;\n",
              "    }\n",
              "\n",
              "    .dataframe thead th {\n",
              "        text-align: right;\n",
              "    }\n",
              "</style>\n",
              "<table border=\"1\" class=\"dataframe\">\n",
              "  <thead>\n",
              "    <tr style=\"text-align: right;\">\n",
              "      <th></th>\n",
              "      <th>age</th>\n",
              "      <th>debt</th>\n",
              "      <th>yearsemployed</th>\n",
              "      <th>creditscore</th>\n",
              "      <th>income</th>\n",
              "      <th>class</th>\n",
              "      <th>gender_a</th>\n",
              "      <th>gender_b</th>\n",
              "      <th>married_l</th>\n",
              "      <th>married_u</th>\n",
              "      <th>married_y</th>\n",
              "      <th>bankcustomer_g</th>\n",
              "      <th>bankcustomer_gg</th>\n",
              "      <th>bankcustomer_p</th>\n",
              "      <th>educationlevel_aa</th>\n",
              "      <th>educationlevel_c</th>\n",
              "      <th>educationlevel_cc</th>\n",
              "      <th>educationlevel_d</th>\n",
              "      <th>educationlevel_e</th>\n",
              "      <th>educationlevel_ff</th>\n",
              "      <th>educationlevel_i</th>\n",
              "      <th>educationlevel_j</th>\n",
              "      <th>educationlevel_k</th>\n",
              "      <th>educationlevel_m</th>\n",
              "      <th>educationlevel_q</th>\n",
              "      <th>educationlevel_r</th>\n",
              "      <th>educationlevel_w</th>\n",
              "      <th>educationlevel_x</th>\n",
              "      <th>ethnicity_bb</th>\n",
              "      <th>ethnicity_dd</th>\n",
              "      <th>ethnicity_ff</th>\n",
              "      <th>ethnicity_h</th>\n",
              "      <th>ethnicity_j</th>\n",
              "      <th>ethnicity_n</th>\n",
              "      <th>ethnicity_o</th>\n",
              "      <th>ethnicity_v</th>\n",
              "      <th>ethnicity_z</th>\n",
              "      <th>priordefault_f</th>\n",
              "      <th>priordefault_t</th>\n",
              "      <th>employed_f</th>\n",
              "      <th>employed_t</th>\n",
              "      <th>driverslicense_f</th>\n",
              "      <th>driverslicense_t</th>\n",
              "      <th>citizen_g</th>\n",
              "      <th>citizen_p</th>\n",
              "      <th>citizen_s</th>\n",
              "    </tr>\n",
              "  </thead>\n",
              "  <tbody>\n",
              "    <tr>\n",
              "      <th>0</th>\n",
              "      <td>30.83</td>\n",
              "      <td>0.000000</td>\n",
              "      <td>0.043860</td>\n",
              "      <td>0.014925</td>\n",
              "      <td>0.00000</td>\n",
              "      <td>+</td>\n",
              "      <td>0</td>\n",
              "      <td>1</td>\n",
              "      <td>0</td>\n",
              "      <td>1</td>\n",
              "      <td>0</td>\n",
              "      <td>1</td>\n",
              "      <td>0</td>\n",
              "      <td>0</td>\n",
              "      <td>0</td>\n",
              "      <td>0</td>\n",
              "      <td>0</td>\n",
              "      <td>0</td>\n",
              "      <td>0</td>\n",
              "      <td>0</td>\n",
              "      <td>0</td>\n",
              "      <td>0</td>\n",
              "      <td>0</td>\n",
              "      <td>0</td>\n",
              "      <td>0</td>\n",
              "      <td>0</td>\n",
              "      <td>1</td>\n",
              "      <td>0</td>\n",
              "      <td>0</td>\n",
              "      <td>0</td>\n",
              "      <td>0</td>\n",
              "      <td>0</td>\n",
              "      <td>0</td>\n",
              "      <td>0</td>\n",
              "      <td>0</td>\n",
              "      <td>1</td>\n",
              "      <td>0</td>\n",
              "      <td>0</td>\n",
              "      <td>1</td>\n",
              "      <td>0</td>\n",
              "      <td>1</td>\n",
              "      <td>1</td>\n",
              "      <td>0</td>\n",
              "      <td>1</td>\n",
              "      <td>0</td>\n",
              "      <td>0</td>\n",
              "    </tr>\n",
              "    <tr>\n",
              "      <th>1</th>\n",
              "      <td>58.67</td>\n",
              "      <td>0.159286</td>\n",
              "      <td>0.106667</td>\n",
              "      <td>0.089552</td>\n",
              "      <td>0.00560</td>\n",
              "      <td>+</td>\n",
              "      <td>1</td>\n",
              "      <td>0</td>\n",
              "      <td>0</td>\n",
              "      <td>1</td>\n",
              "      <td>0</td>\n",
              "      <td>1</td>\n",
              "      <td>0</td>\n",
              "      <td>0</td>\n",
              "      <td>0</td>\n",
              "      <td>0</td>\n",
              "      <td>0</td>\n",
              "      <td>0</td>\n",
              "      <td>0</td>\n",
              "      <td>0</td>\n",
              "      <td>0</td>\n",
              "      <td>0</td>\n",
              "      <td>0</td>\n",
              "      <td>0</td>\n",
              "      <td>1</td>\n",
              "      <td>0</td>\n",
              "      <td>0</td>\n",
              "      <td>0</td>\n",
              "      <td>0</td>\n",
              "      <td>0</td>\n",
              "      <td>0</td>\n",
              "      <td>1</td>\n",
              "      <td>0</td>\n",
              "      <td>0</td>\n",
              "      <td>0</td>\n",
              "      <td>0</td>\n",
              "      <td>0</td>\n",
              "      <td>0</td>\n",
              "      <td>1</td>\n",
              "      <td>0</td>\n",
              "      <td>1</td>\n",
              "      <td>1</td>\n",
              "      <td>0</td>\n",
              "      <td>1</td>\n",
              "      <td>0</td>\n",
              "      <td>0</td>\n",
              "    </tr>\n",
              "    <tr>\n",
              "      <th>2</th>\n",
              "      <td>24.50</td>\n",
              "      <td>0.017857</td>\n",
              "      <td>0.052632</td>\n",
              "      <td>0.000000</td>\n",
              "      <td>0.00824</td>\n",
              "      <td>+</td>\n",
              "      <td>1</td>\n",
              "      <td>0</td>\n",
              "      <td>0</td>\n",
              "      <td>1</td>\n",
              "      <td>0</td>\n",
              "      <td>1</td>\n",
              "      <td>0</td>\n",
              "      <td>0</td>\n",
              "      <td>0</td>\n",
              "      <td>0</td>\n",
              "      <td>0</td>\n",
              "      <td>0</td>\n",
              "      <td>0</td>\n",
              "      <td>0</td>\n",
              "      <td>0</td>\n",
              "      <td>0</td>\n",
              "      <td>0</td>\n",
              "      <td>0</td>\n",
              "      <td>1</td>\n",
              "      <td>0</td>\n",
              "      <td>0</td>\n",
              "      <td>0</td>\n",
              "      <td>0</td>\n",
              "      <td>0</td>\n",
              "      <td>0</td>\n",
              "      <td>1</td>\n",
              "      <td>0</td>\n",
              "      <td>0</td>\n",
              "      <td>0</td>\n",
              "      <td>0</td>\n",
              "      <td>0</td>\n",
              "      <td>0</td>\n",
              "      <td>1</td>\n",
              "      <td>1</td>\n",
              "      <td>0</td>\n",
              "      <td>1</td>\n",
              "      <td>0</td>\n",
              "      <td>1</td>\n",
              "      <td>0</td>\n",
              "      <td>0</td>\n",
              "    </tr>\n",
              "    <tr>\n",
              "      <th>3</th>\n",
              "      <td>27.83</td>\n",
              "      <td>0.055000</td>\n",
              "      <td>0.131579</td>\n",
              "      <td>0.074627</td>\n",
              "      <td>0.00003</td>\n",
              "      <td>+</td>\n",
              "      <td>0</td>\n",
              "      <td>1</td>\n",
              "      <td>0</td>\n",
              "      <td>1</td>\n",
              "      <td>0</td>\n",
              "      <td>1</td>\n",
              "      <td>0</td>\n",
              "      <td>0</td>\n",
              "      <td>0</td>\n",
              "      <td>0</td>\n",
              "      <td>0</td>\n",
              "      <td>0</td>\n",
              "      <td>0</td>\n",
              "      <td>0</td>\n",
              "      <td>0</td>\n",
              "      <td>0</td>\n",
              "      <td>0</td>\n",
              "      <td>0</td>\n",
              "      <td>0</td>\n",
              "      <td>0</td>\n",
              "      <td>1</td>\n",
              "      <td>0</td>\n",
              "      <td>0</td>\n",
              "      <td>0</td>\n",
              "      <td>0</td>\n",
              "      <td>0</td>\n",
              "      <td>0</td>\n",
              "      <td>0</td>\n",
              "      <td>0</td>\n",
              "      <td>1</td>\n",
              "      <td>0</td>\n",
              "      <td>0</td>\n",
              "      <td>1</td>\n",
              "      <td>0</td>\n",
              "      <td>1</td>\n",
              "      <td>0</td>\n",
              "      <td>1</td>\n",
              "      <td>1</td>\n",
              "      <td>0</td>\n",
              "      <td>0</td>\n",
              "    </tr>\n",
              "    <tr>\n",
              "      <th>4</th>\n",
              "      <td>20.17</td>\n",
              "      <td>0.200893</td>\n",
              "      <td>0.060000</td>\n",
              "      <td>0.000000</td>\n",
              "      <td>0.00000</td>\n",
              "      <td>+</td>\n",
              "      <td>0</td>\n",
              "      <td>1</td>\n",
              "      <td>0</td>\n",
              "      <td>1</td>\n",
              "      <td>0</td>\n",
              "      <td>1</td>\n",
              "      <td>0</td>\n",
              "      <td>0</td>\n",
              "      <td>0</td>\n",
              "      <td>0</td>\n",
              "      <td>0</td>\n",
              "      <td>0</td>\n",
              "      <td>0</td>\n",
              "      <td>0</td>\n",
              "      <td>0</td>\n",
              "      <td>0</td>\n",
              "      <td>0</td>\n",
              "      <td>0</td>\n",
              "      <td>0</td>\n",
              "      <td>0</td>\n",
              "      <td>1</td>\n",
              "      <td>0</td>\n",
              "      <td>0</td>\n",
              "      <td>0</td>\n",
              "      <td>0</td>\n",
              "      <td>0</td>\n",
              "      <td>0</td>\n",
              "      <td>0</td>\n",
              "      <td>0</td>\n",
              "      <td>1</td>\n",
              "      <td>0</td>\n",
              "      <td>0</td>\n",
              "      <td>1</td>\n",
              "      <td>1</td>\n",
              "      <td>0</td>\n",
              "      <td>1</td>\n",
              "      <td>0</td>\n",
              "      <td>0</td>\n",
              "      <td>0</td>\n",
              "      <td>1</td>\n",
              "    </tr>\n",
              "  </tbody>\n",
              "</table>\n",
              "</div>"
            ],
            "text/plain": [
              "     age      debt  yearsemployed  ...  citizen_g  citizen_p citizen_s\n",
              "0  30.83  0.000000       0.043860  ...          1          0         0\n",
              "1  58.67  0.159286       0.106667  ...          1          0         0\n",
              "2  24.50  0.017857       0.052632  ...          1          0         0\n",
              "3  27.83  0.055000       0.131579  ...          1          0         0\n",
              "4  20.17  0.200893       0.060000  ...          0          0         1\n",
              "\n",
              "[5 rows x 46 columns]"
            ]
          },
          "metadata": {
            "tags": []
          },
          "execution_count": 20
        }
      ]
    },
    {
      "cell_type": "markdown",
      "metadata": {
        "id": "-C0qMWhcGbZD",
        "colab_type": "text"
      },
      "source": [
        "### **Preparando base de dados para submissão aos modelos**"
      ]
    },
    {
      "cell_type": "code",
      "metadata": {
        "id": "jKi7w8vmGgL5",
        "colab_type": "code",
        "colab": {}
      },
      "source": [
        "target_columns = ['class']\n",
        "data_columns = list(set(df.columns) - set(target_columns))\n",
        "\n",
        "X_train, X_test, y_train, y_test = train_test_split(df[data_columns], df[target_columns], test_size=0.33, random_state=42)"
      ],
      "execution_count": 0,
      "outputs": []
    },
    {
      "cell_type": "markdown",
      "metadata": {
        "id": "56hBmfB7Q_5M",
        "colab_type": "text"
      },
      "source": [
        "### **ARVORE DE DECISAO**"
      ]
    },
    {
      "cell_type": "code",
      "metadata": {
        "id": "3rRzTfoRRABu",
        "colab_type": "code",
        "colab": {}
      },
      "source": [
        "clf = tree.DecisionTreeClassifier(max_depth=3, min_samples_split=20)\n",
        "clf = clf.fit(X_train, y_train)"
      ],
      "execution_count": 0,
      "outputs": []
    },
    {
      "cell_type": "code",
      "metadata": {
        "id": "5LfsPUKlRAFV",
        "colab_type": "code",
        "colab": {
          "base_uri": "https://localhost:8080/",
          "height": 598
        },
        "outputId": "325e7566-c0c5-479a-942f-ab5f8460ab6f"
      },
      "source": [
        "dot_data = tree.export_graphviz(clf, feature_names=data_columns, class_names=['+', '-'], precision=3,  label='all')  \n",
        "graph = graphviz.Source(dot_data)  \n",
        "graph "
      ],
      "execution_count": 26,
      "outputs": [
        {
          "output_type": "execute_result",
          "data": {
            "text/plain": [
              "<graphviz.files.Source at 0x7f7cc2b544a8>"
            ],
            "image/svg+xml": "<?xml version=\"1.0\" encoding=\"UTF-8\" standalone=\"no\"?>\n<!DOCTYPE svg PUBLIC \"-//W3C//DTD SVG 1.1//EN\"\n \"http://www.w3.org/Graphics/SVG/1.1/DTD/svg11.dtd\">\n<!-- Generated by graphviz version 2.40.1 (20161225.0304)\n -->\n<!-- Title: Tree Pages: 1 -->\n<svg width=\"753pt\" height=\"433pt\"\n viewBox=\"0.00 0.00 753.00 433.00\" xmlns=\"http://www.w3.org/2000/svg\" xmlns:xlink=\"http://www.w3.org/1999/xlink\">\n<g id=\"graph0\" class=\"graph\" transform=\"scale(1 1) rotate(0) translate(4 429)\">\n<title>Tree</title>\n<polygon fill=\"#ffffff\" stroke=\"transparent\" points=\"-4,4 -4,-429 749,-429 749,4 -4,4\"/>\n<!-- 0 -->\n<g id=\"node1\" class=\"node\">\n<title>0</title>\n<polygon fill=\"none\" stroke=\"#000000\" points=\"357.5,-425 220.5,-425 220.5,-342 357.5,-342 357.5,-425\"/>\n<text text-anchor=\"middle\" x=\"289\" y=\"-409.8\" font-family=\"Times,serif\" font-size=\"14.00\" fill=\"#000000\">priordefault_t &lt;= 0.5</text>\n<text text-anchor=\"middle\" x=\"289\" y=\"-394.8\" font-family=\"Times,serif\" font-size=\"14.00\" fill=\"#000000\">gini = 0.498</text>\n<text text-anchor=\"middle\" x=\"289\" y=\"-379.8\" font-family=\"Times,serif\" font-size=\"14.00\" fill=\"#000000\">samples = 441</text>\n<text text-anchor=\"middle\" x=\"289\" y=\"-364.8\" font-family=\"Times,serif\" font-size=\"14.00\" fill=\"#000000\">value = [206, 235]</text>\n<text text-anchor=\"middle\" x=\"289\" y=\"-349.8\" font-family=\"Times,serif\" font-size=\"14.00\" fill=\"#000000\">class = &#45;</text>\n</g>\n<!-- 1 -->\n<g id=\"node2\" class=\"node\">\n<title>1</title>\n<polygon fill=\"none\" stroke=\"#000000\" points=\"259.5,-306 142.5,-306 142.5,-223 259.5,-223 259.5,-306\"/>\n<text text-anchor=\"middle\" x=\"201\" y=\"-290.8\" font-family=\"Times,serif\" font-size=\"14.00\" fill=\"#000000\">debt &lt;= 0.007</text>\n<text text-anchor=\"middle\" x=\"201\" y=\"-275.8\" font-family=\"Times,serif\" font-size=\"14.00\" fill=\"#000000\">gini = 0.119</text>\n<text text-anchor=\"middle\" x=\"201\" y=\"-260.8\" font-family=\"Times,serif\" font-size=\"14.00\" fill=\"#000000\">samples = 204</text>\n<text text-anchor=\"middle\" x=\"201\" y=\"-245.8\" font-family=\"Times,serif\" font-size=\"14.00\" fill=\"#000000\">value = [13, 191]</text>\n<text text-anchor=\"middle\" x=\"201\" y=\"-230.8\" font-family=\"Times,serif\" font-size=\"14.00\" fill=\"#000000\">class = &#45;</text>\n</g>\n<!-- 0&#45;&gt;1 -->\n<g id=\"edge1\" class=\"edge\">\n<title>0&#45;&gt;1</title>\n<path fill=\"none\" stroke=\"#000000\" d=\"M258.2219,-341.8796C251.6949,-333.0534 244.7401,-323.6485 238.0092,-314.5466\"/>\n<polygon fill=\"#000000\" stroke=\"#000000\" points=\"240.6695,-312.2574 231.9095,-306.2981 235.0412,-316.4195 240.6695,-312.2574\"/>\n<text text-anchor=\"middle\" x=\"228.2068\" y=\"-327.3224\" font-family=\"Times,serif\" font-size=\"14.00\" fill=\"#000000\">True</text>\n</g>\n<!-- 6 -->\n<g id=\"node7\" class=\"node\">\n<title>6</title>\n<polygon fill=\"none\" stroke=\"#000000\" points=\"461,-306 333,-306 333,-223 461,-223 461,-306\"/>\n<text text-anchor=\"middle\" x=\"397\" y=\"-290.8\" font-family=\"Times,serif\" font-size=\"14.00\" fill=\"#000000\">employed_t &lt;= 0.5</text>\n<text text-anchor=\"middle\" x=\"397\" y=\"-275.8\" font-family=\"Times,serif\" font-size=\"14.00\" fill=\"#000000\">gini = 0.302</text>\n<text text-anchor=\"middle\" x=\"397\" y=\"-260.8\" font-family=\"Times,serif\" font-size=\"14.00\" fill=\"#000000\">samples = 237</text>\n<text text-anchor=\"middle\" x=\"397\" y=\"-245.8\" font-family=\"Times,serif\" font-size=\"14.00\" fill=\"#000000\">value = [193, 44]</text>\n<text text-anchor=\"middle\" x=\"397\" y=\"-230.8\" font-family=\"Times,serif\" font-size=\"14.00\" fill=\"#000000\">class = +</text>\n</g>\n<!-- 0&#45;&gt;6 -->\n<g id=\"edge6\" class=\"edge\">\n<title>0&#45;&gt;6</title>\n<path fill=\"none\" stroke=\"#000000\" d=\"M326.7732,-341.8796C335.0287,-332.7832 343.842,-323.0722 352.3374,-313.7116\"/>\n<polygon fill=\"#000000\" stroke=\"#000000\" points=\"354.9368,-316.0553 359.0656,-306.2981 349.7533,-311.3509 354.9368,-316.0553\"/>\n<text text-anchor=\"middle\" x=\"360.2756\" y=\"-327.5688\" font-family=\"Times,serif\" font-size=\"14.00\" fill=\"#000000\">False</text>\n</g>\n<!-- 2 -->\n<g id=\"node3\" class=\"node\">\n<title>2</title>\n<polygon fill=\"none\" stroke=\"#000000\" points=\"102,-179.5 0,-179.5 0,-111.5 102,-111.5 102,-179.5\"/>\n<text text-anchor=\"middle\" x=\"51\" y=\"-164.3\" font-family=\"Times,serif\" font-size=\"14.00\" fill=\"#000000\">gini = 0.401</text>\n<text text-anchor=\"middle\" x=\"51\" y=\"-149.3\" font-family=\"Times,serif\" font-size=\"14.00\" fill=\"#000000\">samples = 18</text>\n<text text-anchor=\"middle\" x=\"51\" y=\"-134.3\" font-family=\"Times,serif\" font-size=\"14.00\" fill=\"#000000\">value = [5, 13]</text>\n<text text-anchor=\"middle\" x=\"51\" y=\"-119.3\" font-family=\"Times,serif\" font-size=\"14.00\" fill=\"#000000\">class = &#45;</text>\n</g>\n<!-- 1&#45;&gt;2 -->\n<g id=\"edge2\" class=\"edge\">\n<title>1&#45;&gt;2</title>\n<path fill=\"none\" stroke=\"#000000\" d=\"M148.5373,-222.8796C133.5678,-211.0038 117.2778,-198.0804 102.3741,-186.2568\"/>\n<polygon fill=\"#000000\" stroke=\"#000000\" points=\"104.2635,-183.2881 94.2541,-179.8149 99.913,-188.772 104.2635,-183.2881\"/>\n</g>\n<!-- 3 -->\n<g id=\"node4\" class=\"node\">\n<title>3</title>\n<polygon fill=\"none\" stroke=\"#000000\" points=\"282,-187 120,-187 120,-104 282,-104 282,-187\"/>\n<text text-anchor=\"middle\" x=\"201\" y=\"-171.8\" font-family=\"Times,serif\" font-size=\"14.00\" fill=\"#000000\">bankcustomer_gg &lt;= 0.5</text>\n<text text-anchor=\"middle\" x=\"201\" y=\"-156.8\" font-family=\"Times,serif\" font-size=\"14.00\" fill=\"#000000\">gini = 0.082</text>\n<text text-anchor=\"middle\" x=\"201\" y=\"-141.8\" font-family=\"Times,serif\" font-size=\"14.00\" fill=\"#000000\">samples = 186</text>\n<text text-anchor=\"middle\" x=\"201\" y=\"-126.8\" font-family=\"Times,serif\" font-size=\"14.00\" fill=\"#000000\">value = [8, 178]</text>\n<text text-anchor=\"middle\" x=\"201\" y=\"-111.8\" font-family=\"Times,serif\" font-size=\"14.00\" fill=\"#000000\">class = &#45;</text>\n</g>\n<!-- 1&#45;&gt;3 -->\n<g id=\"edge3\" class=\"edge\">\n<title>1&#45;&gt;3</title>\n<path fill=\"none\" stroke=\"#000000\" d=\"M201,-222.8796C201,-214.6838 201,-205.9891 201,-197.5013\"/>\n<polygon fill=\"#000000\" stroke=\"#000000\" points=\"204.5001,-197.298 201,-187.2981 197.5001,-197.2981 204.5001,-197.298\"/>\n</g>\n<!-- 4 -->\n<g id=\"node5\" class=\"node\">\n<title>4</title>\n<polygon fill=\"none\" stroke=\"#000000\" points=\"135,-68 25,-68 25,0 135,0 135,-68\"/>\n<text text-anchor=\"middle\" x=\"80\" y=\"-52.8\" font-family=\"Times,serif\" font-size=\"14.00\" fill=\"#000000\">gini = 0.073</text>\n<text text-anchor=\"middle\" x=\"80\" y=\"-37.8\" font-family=\"Times,serif\" font-size=\"14.00\" fill=\"#000000\">samples = 185</text>\n<text text-anchor=\"middle\" x=\"80\" y=\"-22.8\" font-family=\"Times,serif\" font-size=\"14.00\" fill=\"#000000\">value = [7, 178]</text>\n<text text-anchor=\"middle\" x=\"80\" y=\"-7.8\" font-family=\"Times,serif\" font-size=\"14.00\" fill=\"#000000\">class = &#45;</text>\n</g>\n<!-- 3&#45;&gt;4 -->\n<g id=\"edge4\" class=\"edge\">\n<title>3&#45;&gt;4</title>\n<path fill=\"none\" stroke=\"#000000\" d=\"M155.9441,-103.9815C145.7709,-94.607 134.9733,-84.6572 124.8102,-75.2921\"/>\n<polygon fill=\"#000000\" stroke=\"#000000\" points=\"126.9087,-72.4663 117.183,-68.2637 122.1651,-77.6141 126.9087,-72.4663\"/>\n</g>\n<!-- 5 -->\n<g id=\"node6\" class=\"node\">\n<title>5</title>\n<polygon fill=\"none\" stroke=\"#000000\" points=\"248.5,-68 153.5,-68 153.5,0 248.5,0 248.5,-68\"/>\n<text text-anchor=\"middle\" x=\"201\" y=\"-52.8\" font-family=\"Times,serif\" font-size=\"14.00\" fill=\"#000000\">gini = 0.0</text>\n<text text-anchor=\"middle\" x=\"201\" y=\"-37.8\" font-family=\"Times,serif\" font-size=\"14.00\" fill=\"#000000\">samples = 1</text>\n<text text-anchor=\"middle\" x=\"201\" y=\"-22.8\" font-family=\"Times,serif\" font-size=\"14.00\" fill=\"#000000\">value = [1, 0]</text>\n<text text-anchor=\"middle\" x=\"201\" y=\"-7.8\" font-family=\"Times,serif\" font-size=\"14.00\" fill=\"#000000\">class = +</text>\n</g>\n<!-- 3&#45;&gt;5 -->\n<g id=\"edge5\" class=\"edge\">\n<title>3&#45;&gt;5</title>\n<path fill=\"none\" stroke=\"#000000\" d=\"M201,-103.9815C201,-95.618 201,-86.7965 201,-78.3409\"/>\n<polygon fill=\"#000000\" stroke=\"#000000\" points=\"204.5001,-78.2636 201,-68.2637 197.5001,-78.2637 204.5001,-78.2636\"/>\n</g>\n<!-- 7 -->\n<g id=\"node8\" class=\"node\">\n<title>7</title>\n<polygon fill=\"none\" stroke=\"#000000\" points=\"474.5,-187 319.5,-187 319.5,-104 474.5,-104 474.5,-187\"/>\n<text text-anchor=\"middle\" x=\"397\" y=\"-171.8\" font-family=\"Times,serif\" font-size=\"14.00\" fill=\"#000000\">bankcustomer_g &lt;= 0.5</text>\n<text text-anchor=\"middle\" x=\"397\" y=\"-156.8\" font-family=\"Times,serif\" font-size=\"14.00\" fill=\"#000000\">gini = 0.462</text>\n<text text-anchor=\"middle\" x=\"397\" y=\"-141.8\" font-family=\"Times,serif\" font-size=\"14.00\" fill=\"#000000\">samples = 80</text>\n<text text-anchor=\"middle\" x=\"397\" y=\"-126.8\" font-family=\"Times,serif\" font-size=\"14.00\" fill=\"#000000\">value = [51, 29]</text>\n<text text-anchor=\"middle\" x=\"397\" y=\"-111.8\" font-family=\"Times,serif\" font-size=\"14.00\" fill=\"#000000\">class = +</text>\n</g>\n<!-- 6&#45;&gt;7 -->\n<g id=\"edge7\" class=\"edge\">\n<title>6&#45;&gt;7</title>\n<path fill=\"none\" stroke=\"#000000\" d=\"M397,-222.8796C397,-214.6838 397,-205.9891 397,-197.5013\"/>\n<polygon fill=\"#000000\" stroke=\"#000000\" points=\"400.5001,-197.298 397,-187.2981 393.5001,-197.2981 400.5001,-197.298\"/>\n</g>\n<!-- 10 -->\n<g id=\"node11\" class=\"node\">\n<title>10</title>\n<polygon fill=\"none\" stroke=\"#000000\" points=\"628.5,-187 511.5,-187 511.5,-104 628.5,-104 628.5,-187\"/>\n<text text-anchor=\"middle\" x=\"570\" y=\"-171.8\" font-family=\"Times,serif\" font-size=\"14.00\" fill=\"#000000\">income &lt;= 0.001</text>\n<text text-anchor=\"middle\" x=\"570\" y=\"-156.8\" font-family=\"Times,serif\" font-size=\"14.00\" fill=\"#000000\">gini = 0.173</text>\n<text text-anchor=\"middle\" x=\"570\" y=\"-141.8\" font-family=\"Times,serif\" font-size=\"14.00\" fill=\"#000000\">samples = 157</text>\n<text text-anchor=\"middle\" x=\"570\" y=\"-126.8\" font-family=\"Times,serif\" font-size=\"14.00\" fill=\"#000000\">value = [142, 15]</text>\n<text text-anchor=\"middle\" x=\"570\" y=\"-111.8\" font-family=\"Times,serif\" font-size=\"14.00\" fill=\"#000000\">class = +</text>\n</g>\n<!-- 6&#45;&gt;10 -->\n<g id=\"edge10\" class=\"edge\">\n<title>6&#45;&gt;10</title>\n<path fill=\"none\" stroke=\"#000000\" d=\"M457.507,-222.8796C472.0869,-212.8506 487.753,-202.0746 502.625,-191.8447\"/>\n<polygon fill=\"#000000\" stroke=\"#000000\" points=\"505.02,-194.4453 511.2755,-185.8943 501.0529,-188.678 505.02,-194.4453\"/>\n</g>\n<!-- 8 -->\n<g id=\"node9\" class=\"node\">\n<title>8</title>\n<polygon fill=\"none\" stroke=\"#000000\" points=\"369,-68 267,-68 267,0 369,0 369,-68\"/>\n<text text-anchor=\"middle\" x=\"318\" y=\"-52.8\" font-family=\"Times,serif\" font-size=\"14.00\" fill=\"#000000\">gini = 0.465</text>\n<text text-anchor=\"middle\" x=\"318\" y=\"-37.8\" font-family=\"Times,serif\" font-size=\"14.00\" fill=\"#000000\">samples = 19</text>\n<text text-anchor=\"middle\" x=\"318\" y=\"-22.8\" font-family=\"Times,serif\" font-size=\"14.00\" fill=\"#000000\">value = [7, 12]</text>\n<text text-anchor=\"middle\" x=\"318\" y=\"-7.8\" font-family=\"Times,serif\" font-size=\"14.00\" fill=\"#000000\">class = &#45;</text>\n</g>\n<!-- 7&#45;&gt;8 -->\n<g id=\"edge8\" class=\"edge\">\n<title>7&#45;&gt;8</title>\n<path fill=\"none\" stroke=\"#000000\" d=\"M367.5833,-103.9815C361.2669,-95.0666 354.5818,-85.6313 348.2349,-76.6734\"/>\n<polygon fill=\"#000000\" stroke=\"#000000\" points=\"350.9136,-74.3998 342.2765,-68.2637 345.2019,-78.4466 350.9136,-74.3998\"/>\n</g>\n<!-- 9 -->\n<g id=\"node10\" class=\"node\">\n<title>9</title>\n<polygon fill=\"none\" stroke=\"#000000\" points=\"497,-68 387,-68 387,0 497,0 497,-68\"/>\n<text text-anchor=\"middle\" x=\"442\" y=\"-52.8\" font-family=\"Times,serif\" font-size=\"14.00\" fill=\"#000000\">gini = 0.402</text>\n<text text-anchor=\"middle\" x=\"442\" y=\"-37.8\" font-family=\"Times,serif\" font-size=\"14.00\" fill=\"#000000\">samples = 61</text>\n<text text-anchor=\"middle\" x=\"442\" y=\"-22.8\" font-family=\"Times,serif\" font-size=\"14.00\" fill=\"#000000\">value = [44, 17]</text>\n<text text-anchor=\"middle\" x=\"442\" y=\"-7.8\" font-family=\"Times,serif\" font-size=\"14.00\" fill=\"#000000\">class = +</text>\n</g>\n<!-- 7&#45;&gt;9 -->\n<g id=\"edge9\" class=\"edge\">\n<title>7&#45;&gt;9</title>\n<path fill=\"none\" stroke=\"#000000\" d=\"M413.7563,-103.9815C417.2059,-95.4342 420.8486,-86.4086 424.3294,-77.7839\"/>\n<polygon fill=\"#000000\" stroke=\"#000000\" points=\"427.6746,-78.8469 428.1716,-68.2637 421.1833,-76.227 427.6746,-78.8469\"/>\n</g>\n<!-- 11 -->\n<g id=\"node12\" class=\"node\">\n<title>11</title>\n<polygon fill=\"none\" stroke=\"#000000\" points=\"625,-68 515,-68 515,0 625,0 625,-68\"/>\n<text text-anchor=\"middle\" x=\"570\" y=\"-52.8\" font-family=\"Times,serif\" font-size=\"14.00\" fill=\"#000000\">gini = 0.316</text>\n<text text-anchor=\"middle\" x=\"570\" y=\"-37.8\" font-family=\"Times,serif\" font-size=\"14.00\" fill=\"#000000\">samples = 61</text>\n<text text-anchor=\"middle\" x=\"570\" y=\"-22.8\" font-family=\"Times,serif\" font-size=\"14.00\" fill=\"#000000\">value = [49, 12]</text>\n<text text-anchor=\"middle\" x=\"570\" y=\"-7.8\" font-family=\"Times,serif\" font-size=\"14.00\" fill=\"#000000\">class = +</text>\n</g>\n<!-- 10&#45;&gt;11 -->\n<g id=\"edge11\" class=\"edge\">\n<title>10&#45;&gt;11</title>\n<path fill=\"none\" stroke=\"#000000\" d=\"M570,-103.9815C570,-95.618 570,-86.7965 570,-78.3409\"/>\n<polygon fill=\"#000000\" stroke=\"#000000\" points=\"573.5001,-78.2636 570,-68.2637 566.5001,-78.2637 573.5001,-78.2636\"/>\n</g>\n<!-- 12 -->\n<g id=\"node13\" class=\"node\">\n<title>12</title>\n<polygon fill=\"none\" stroke=\"#000000\" points=\"745,-68 643,-68 643,0 745,0 745,-68\"/>\n<text text-anchor=\"middle\" x=\"694\" y=\"-52.8\" font-family=\"Times,serif\" font-size=\"14.00\" fill=\"#000000\">gini = 0.061</text>\n<text text-anchor=\"middle\" x=\"694\" y=\"-37.8\" font-family=\"Times,serif\" font-size=\"14.00\" fill=\"#000000\">samples = 96</text>\n<text text-anchor=\"middle\" x=\"694\" y=\"-22.8\" font-family=\"Times,serif\" font-size=\"14.00\" fill=\"#000000\">value = [93, 3]</text>\n<text text-anchor=\"middle\" x=\"694\" y=\"-7.8\" font-family=\"Times,serif\" font-size=\"14.00\" fill=\"#000000\">class = +</text>\n</g>\n<!-- 10&#45;&gt;12 -->\n<g id=\"edge12\" class=\"edge\">\n<title>10&#45;&gt;12</title>\n<path fill=\"none\" stroke=\"#000000\" d=\"M616.173,-103.9815C626.7007,-94.5151 637.8808,-84.462 648.3849,-75.0168\"/>\n<polygon fill=\"#000000\" stroke=\"#000000\" points=\"650.7994,-77.5526 655.8951,-68.2637 646.1189,-72.3475 650.7994,-77.5526\"/>\n</g>\n</g>\n</svg>\n"
          },
          "metadata": {
            "tags": []
          },
          "execution_count": 26
        }
      ]
    },
    {
      "cell_type": "markdown",
      "metadata": {
        "id": "r9M48c_rLAcW",
        "colab_type": "text"
      },
      "source": [
        "### **NAIVE BAYES**"
      ]
    },
    {
      "cell_type": "code",
      "metadata": {
        "id": "eZQDPzPKG485",
        "colab_type": "code",
        "colab": {
          "base_uri": "https://localhost:8080/",
          "height": 71
        },
        "outputId": "a5ef71bf-5067-448a-9d76-98bcd9deca56"
      },
      "source": [
        "gnb = GaussianNB()\n",
        "gnb_y_pred = gnb.fit(X_train, y_train)"
      ],
      "execution_count": 29,
      "outputs": [
        {
          "output_type": "stream",
          "text": [
            "/usr/local/lib/python3.6/dist-packages/sklearn/utils/validation.py:724: DataConversionWarning: A column-vector y was passed when a 1d array was expected. Please change the shape of y to (n_samples, ), for example using ravel().\n",
            "  y = column_or_1d(y, warn=True)\n"
          ],
          "name": "stderr"
        }
      ]
    },
    {
      "cell_type": "markdown",
      "metadata": {
        "id": "ZYKA2Sr0MVbq",
        "colab_type": "text"
      },
      "source": [
        "## **GRADIENT BOOSTED TREES**"
      ]
    },
    {
      "cell_type": "code",
      "metadata": {
        "id": "Mksw6CtbG46H",
        "colab_type": "code",
        "colab": {
          "base_uri": "https://localhost:8080/",
          "height": 241
        },
        "outputId": "363f5a60-6411-4fa6-a73b-568e9135b075"
      },
      "source": [
        "gb_clf = GradientBoostingClassifier(n_estimators=20, learning_rate=0.05, max_features=2, max_depth=2, random_state=0)\n",
        "gb_clf.fit(X_train, y_train)"
      ],
      "execution_count": 35,
      "outputs": [
        {
          "output_type": "stream",
          "text": [
            "/usr/local/lib/python3.6/dist-packages/sklearn/ensemble/gradient_boosting.py:1450: DataConversionWarning: A column-vector y was passed when a 1d array was expected. Please change the shape of y to (n_samples, ), for example using ravel().\n",
            "  y = column_or_1d(y, warn=True)\n"
          ],
          "name": "stderr"
        },
        {
          "output_type": "execute_result",
          "data": {
            "text/plain": [
              "GradientBoostingClassifier(criterion='friedman_mse', init=None,\n",
              "                           learning_rate=0.05, loss='deviance', max_depth=2,\n",
              "                           max_features=2, max_leaf_nodes=None,\n",
              "                           min_impurity_decrease=0.0, min_impurity_split=None,\n",
              "                           min_samples_leaf=1, min_samples_split=2,\n",
              "                           min_weight_fraction_leaf=0.0, n_estimators=20,\n",
              "                           n_iter_no_change=None, presort='auto',\n",
              "                           random_state=0, subsample=1.0, tol=0.0001,\n",
              "                           validation_fraction=0.1, verbose=0,\n",
              "                           warm_start=False)"
            ]
          },
          "metadata": {
            "tags": []
          },
          "execution_count": 35
        }
      ]
    },
    {
      "cell_type": "markdown",
      "metadata": {
        "id": "zvdaAFr8Oxs8",
        "colab_type": "text"
      },
      "source": [
        "## **XGBOOST**"
      ]
    },
    {
      "cell_type": "code",
      "metadata": {
        "id": "cX-59KNeOwyU",
        "colab_type": "code",
        "colab": {
          "base_uri": "https://localhost:8080/",
          "height": 224
        },
        "outputId": "df1ef7e6-6bf8-45fa-8d70-c4dd0be231b6"
      },
      "source": [
        "xgb_clf = XGBClassifier(max_depth=4, learning_rate=0.1)\n",
        "xgb_clf.fit(X_train, y_train)"
      ],
      "execution_count": 67,
      "outputs": [
        {
          "output_type": "stream",
          "text": [
            "/usr/local/lib/python3.6/dist-packages/sklearn/preprocessing/label.py:219: DataConversionWarning: A column-vector y was passed when a 1d array was expected. Please change the shape of y to (n_samples, ), for example using ravel().\n",
            "  y = column_or_1d(y, warn=True)\n",
            "/usr/local/lib/python3.6/dist-packages/sklearn/preprocessing/label.py:252: DataConversionWarning: A column-vector y was passed when a 1d array was expected. Please change the shape of y to (n_samples, ), for example using ravel().\n",
            "  y = column_or_1d(y, warn=True)\n"
          ],
          "name": "stderr"
        },
        {
          "output_type": "execute_result",
          "data": {
            "text/plain": [
              "XGBClassifier(base_score=0.5, booster='gbtree', colsample_bylevel=1,\n",
              "              colsample_bynode=1, colsample_bytree=1, gamma=0,\n",
              "              learning_rate=0.1, max_delta_step=0, max_depth=4,\n",
              "              min_child_weight=1, missing=None, n_estimators=100, n_jobs=1,\n",
              "              nthread=None, objective='binary:logistic', random_state=0,\n",
              "              reg_alpha=0, reg_lambda=1, scale_pos_weight=1, seed=None,\n",
              "              silent=None, subsample=1, verbosity=1)"
            ]
          },
          "metadata": {
            "tags": []
          },
          "execution_count": 67
        }
      ]
    },
    {
      "cell_type": "markdown",
      "metadata": {
        "id": "BEIwABMGQRQ9",
        "colab_type": "text"
      },
      "source": [
        "## **RANDOM FOREST**"
      ]
    },
    {
      "cell_type": "code",
      "metadata": {
        "id": "GJO1W1UnOxEl",
        "colab_type": "code",
        "colab": {
          "base_uri": "https://localhost:8080/",
          "height": 190
        },
        "outputId": "0259b99b-b119-4b90-b2ee-19573c3e4844"
      },
      "source": [
        "rf_clf = RandomForestClassifier(n_estimators=100, max_depth=2, random_state=0)\n",
        "rf_clf.fit(X_train, y_train)"
      ],
      "execution_count": 73,
      "outputs": [
        {
          "output_type": "stream",
          "text": [
            "/usr/local/lib/python3.6/dist-packages/ipykernel_launcher.py:2: DataConversionWarning: A column-vector y was passed when a 1d array was expected. Please change the shape of y to (n_samples,), for example using ravel().\n",
            "  \n"
          ],
          "name": "stderr"
        },
        {
          "output_type": "execute_result",
          "data": {
            "text/plain": [
              "RandomForestClassifier(bootstrap=True, class_weight=None, criterion='gini',\n",
              "                       max_depth=2, max_features='auto', max_leaf_nodes=None,\n",
              "                       min_impurity_decrease=0.0, min_impurity_split=None,\n",
              "                       min_samples_leaf=1, min_samples_split=2,\n",
              "                       min_weight_fraction_leaf=0.0, n_estimators=100,\n",
              "                       n_jobs=None, oob_score=False, random_state=0, verbose=0,\n",
              "                       warm_start=False)"
            ]
          },
          "metadata": {
            "tags": []
          },
          "execution_count": 73
        }
      ]
    },
    {
      "cell_type": "markdown",
      "metadata": {
        "id": "XxMrcHfzRKzp",
        "colab_type": "text"
      },
      "source": [
        "## **REGRESSÃO LOGÍSTICA**"
      ]
    },
    {
      "cell_type": "code",
      "metadata": {
        "id": "Z5ii3BgzRQTV",
        "colab_type": "code",
        "colab": {
          "base_uri": "https://localhost:8080/",
          "height": 190
        },
        "outputId": "821b6e9f-1605-4a52-cc86-2fc37d01f3cb"
      },
      "source": [
        "lr_clf = LogisticRegression(random_state=0, solver='lbfgs', multi_class='multinomial')\n",
        "lr_clf.fit(X_train, y_train)"
      ],
      "execution_count": 78,
      "outputs": [
        {
          "output_type": "stream",
          "text": [
            "/usr/local/lib/python3.6/dist-packages/sklearn/utils/validation.py:724: DataConversionWarning: A column-vector y was passed when a 1d array was expected. Please change the shape of y to (n_samples, ), for example using ravel().\n",
            "  y = column_or_1d(y, warn=True)\n",
            "/usr/local/lib/python3.6/dist-packages/sklearn/linear_model/logistic.py:947: ConvergenceWarning: lbfgs failed to converge. Increase the number of iterations.\n",
            "  \"of iterations.\", ConvergenceWarning)\n"
          ],
          "name": "stderr"
        },
        {
          "output_type": "execute_result",
          "data": {
            "text/plain": [
              "LogisticRegression(C=1.0, class_weight=None, dual=False, fit_intercept=True,\n",
              "                   intercept_scaling=1, l1_ratio=None, max_iter=100,\n",
              "                   multi_class='multinomial', n_jobs=None, penalty='l2',\n",
              "                   random_state=0, solver='lbfgs', tol=0.0001, verbose=0,\n",
              "                   warm_start=False)"
            ]
          },
          "metadata": {
            "tags": []
          },
          "execution_count": 78
        }
      ]
    },
    {
      "cell_type": "markdown",
      "metadata": {
        "id": "6VgtF3ZMMkQb",
        "colab_type": "text"
      },
      "source": [
        "### **Avaliando os modelos**"
      ]
    },
    {
      "cell_type": "code",
      "metadata": {
        "id": "O-ivqe2mNb_G",
        "colab_type": "code",
        "colab": {}
      },
      "source": [
        "dt_results = clf.predict(X_test)\n",
        "nb_results = gnb_y_pred.predict(X_test)\n",
        "gbt_results = gb_clf.predict(X_test)\n",
        "xgb_results = xgb_clf.predict(X_test)\n",
        "rf_results = rf_clf.predict(X_test)\n",
        "lr_results = lr_clf.predict(X_test)"
      ],
      "execution_count": 0,
      "outputs": []
    },
    {
      "cell_type": "code",
      "metadata": {
        "id": "rW1Md4oCNZ8b",
        "colab_type": "code",
        "colab": {
          "base_uri": "https://localhost:8080/",
          "height": 238
        },
        "outputId": "9c7a80bc-a38b-45b3-e5d1-5a2ab404fadb"
      },
      "source": [
        "print(\"Confusion Matrix:\")\n",
        "print(confusion_matrix(y_test, dt_results))\n",
        "\n",
        "print(\"Classification Report\")\n",
        "print(classification_report(y_test, dt_results))"
      ],
      "execution_count": 44,
      "outputs": [
        {
          "output_type": "stream",
          "text": [
            "Confusion Matrix:\n",
            "[[ 83   9]\n",
            " [ 23 103]]\n",
            "Classification Report\n",
            "              precision    recall  f1-score   support\n",
            "\n",
            "           +       0.78      0.90      0.84        92\n",
            "           -       0.92      0.82      0.87       126\n",
            "\n",
            "    accuracy                           0.85       218\n",
            "   macro avg       0.85      0.86      0.85       218\n",
            "weighted avg       0.86      0.85      0.85       218\n",
            "\n"
          ],
          "name": "stdout"
        }
      ]
    },
    {
      "cell_type": "code",
      "metadata": {
        "id": "9Y_IMkqsNZ_1",
        "colab_type": "code",
        "colab": {
          "base_uri": "https://localhost:8080/",
          "height": 238
        },
        "outputId": "f2d5d0f1-b200-4141-8d4d-df9ef53f4a2b"
      },
      "source": [
        "print(\"Confusion Matrix:\")\n",
        "print(confusion_matrix(y_test, nb_results))\n",
        "\n",
        "print(\"Classification Report\")\n",
        "print(classification_report(y_test, nb_results))"
      ],
      "execution_count": 45,
      "outputs": [
        {
          "output_type": "stream",
          "text": [
            "Confusion Matrix:\n",
            "[[ 39  53]\n",
            " [  5 121]]\n",
            "Classification Report\n",
            "              precision    recall  f1-score   support\n",
            "\n",
            "           +       0.89      0.42      0.57        92\n",
            "           -       0.70      0.96      0.81       126\n",
            "\n",
            "    accuracy                           0.73       218\n",
            "   macro avg       0.79      0.69      0.69       218\n",
            "weighted avg       0.78      0.73      0.71       218\n",
            "\n"
          ],
          "name": "stdout"
        }
      ]
    },
    {
      "cell_type": "code",
      "metadata": {
        "id": "BD_b-u8OOe1v",
        "colab_type": "code",
        "colab": {
          "base_uri": "https://localhost:8080/",
          "height": 238
        },
        "outputId": "a34e4580-374e-4cde-b094-5902e2091415"
      },
      "source": [
        "print(\"Confusion Matrix:\")\n",
        "print(confusion_matrix(y_test, gbt_results))\n",
        "\n",
        "print(\"Classification Report\")\n",
        "print(classification_report(y_test, gbt_results))"
      ],
      "execution_count": 46,
      "outputs": [
        {
          "output_type": "stream",
          "text": [
            "Confusion Matrix:\n",
            "[[ 63  29]\n",
            " [  7 119]]\n",
            "Classification Report\n",
            "              precision    recall  f1-score   support\n",
            "\n",
            "           +       0.90      0.68      0.78        92\n",
            "           -       0.80      0.94      0.87       126\n",
            "\n",
            "    accuracy                           0.83       218\n",
            "   macro avg       0.85      0.81      0.82       218\n",
            "weighted avg       0.84      0.83      0.83       218\n",
            "\n"
          ],
          "name": "stdout"
        }
      ]
    },
    {
      "cell_type": "code",
      "metadata": {
        "id": "UD4WSCUlOvQr",
        "colab_type": "code",
        "colab": {
          "base_uri": "https://localhost:8080/",
          "height": 238
        },
        "outputId": "6130a557-f9f8-44dc-832e-af986e5cb089"
      },
      "source": [
        "print(\"Confusion Matrix:\")\n",
        "print(confusion_matrix(y_test, xgb_results))\n",
        "\n",
        "print(\"Classification Report\")\n",
        "print(classification_report(y_test, xgb_results))"
      ],
      "execution_count": 69,
      "outputs": [
        {
          "output_type": "stream",
          "text": [
            "Confusion Matrix:\n",
            "[[ 84   8]\n",
            " [ 21 105]]\n",
            "Classification Report\n",
            "              precision    recall  f1-score   support\n",
            "\n",
            "           +       0.80      0.91      0.85        92\n",
            "           -       0.93      0.83      0.88       126\n",
            "\n",
            "    accuracy                           0.87       218\n",
            "   macro avg       0.86      0.87      0.87       218\n",
            "weighted avg       0.87      0.87      0.87       218\n",
            "\n"
          ],
          "name": "stdout"
        }
      ]
    },
    {
      "cell_type": "code",
      "metadata": {
        "id": "JipxacMoOvTl",
        "colab_type": "code",
        "colab": {
          "base_uri": "https://localhost:8080/",
          "height": 238
        },
        "outputId": "c02b086c-fb9e-4a67-9fa3-13890bf8239e"
      },
      "source": [
        "print(\"Confusion Matrix:\")\n",
        "print(confusion_matrix(y_test, rf_results))\n",
        "\n",
        "print(\"Classification Report\")\n",
        "print(classification_report(y_test, rf_results))"
      ],
      "execution_count": 75,
      "outputs": [
        {
          "output_type": "stream",
          "text": [
            "Confusion Matrix:\n",
            "[[ 79  13]\n",
            " [ 20 106]]\n",
            "Classification Report\n",
            "              precision    recall  f1-score   support\n",
            "\n",
            "           +       0.80      0.86      0.83        92\n",
            "           -       0.89      0.84      0.87       126\n",
            "\n",
            "    accuracy                           0.85       218\n",
            "   macro avg       0.84      0.85      0.85       218\n",
            "weighted avg       0.85      0.85      0.85       218\n",
            "\n"
          ],
          "name": "stdout"
        }
      ]
    },
    {
      "cell_type": "code",
      "metadata": {
        "id": "iHFNE8psOvOG",
        "colab_type": "code",
        "colab": {
          "base_uri": "https://localhost:8080/",
          "height": 238
        },
        "outputId": "aafd71d6-02b3-491d-8a1d-49d5c8e53204"
      },
      "source": [
        "print(\"Confusion Matrix:\")\n",
        "print(confusion_matrix(y_test, lr_results))\n",
        "\n",
        "print(\"Classification Report\")\n",
        "print(classification_report(y_test, lr_results))"
      ],
      "execution_count": 80,
      "outputs": [
        {
          "output_type": "stream",
          "text": [
            "Confusion Matrix:\n",
            "[[ 87   5]\n",
            " [ 26 100]]\n",
            "Classification Report\n",
            "              precision    recall  f1-score   support\n",
            "\n",
            "           +       0.77      0.95      0.85        92\n",
            "           -       0.95      0.79      0.87       126\n",
            "\n",
            "    accuracy                           0.86       218\n",
            "   macro avg       0.86      0.87      0.86       218\n",
            "weighted avg       0.88      0.86      0.86       218\n",
            "\n"
          ],
          "name": "stdout"
        }
      ]
    },
    {
      "cell_type": "markdown",
      "metadata": {
        "id": "nYqDXFKoORLf",
        "colab_type": "text"
      },
      "source": [
        "## **E aí, o que achou de sua acurácia agora? Qual modelo você escolheria?** \n",
        "\n",
        "\n",
        "![alt text](https://www.mememaker.net/api/bucket?path=static/img/memes/full/2017/May/1/7/give-that-man-a-data-science-degree.jpg)"
      ]
    },
    {
      "cell_type": "code",
      "metadata": {
        "id": "GqpqeVgkcNXi",
        "colab_type": "code",
        "colab": {}
      },
      "source": [
        ""
      ],
      "execution_count": 0,
      "outputs": []
    }
  ]
}